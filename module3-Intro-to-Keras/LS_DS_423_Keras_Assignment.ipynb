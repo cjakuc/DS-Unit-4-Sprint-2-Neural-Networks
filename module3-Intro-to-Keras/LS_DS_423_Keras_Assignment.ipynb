{
  "nbformat": 4,
  "nbformat_minor": 0,
  "metadata": {
    "colab": {
      "name": "LS_DS_433_Keras_Assignment.ipynb",
      "provenance": [],
      "include_colab_link": true
    },
    "kernelspec": {
      "display_name": "Python 3",
      "language": "python",
      "name": "python3"
    },
    "language_info": {
      "codemirror_mode": {
        "name": "ipython",
        "version": 3
      },
      "file_extension": ".py",
      "mimetype": "text/x-python",
      "name": "python",
      "nbconvert_exporter": "python",
      "pygments_lexer": "ipython3",
      "version": "3.7.3"
    }
  },
  "cells": [
    {
      "cell_type": "markdown",
      "metadata": {
        "id": "view-in-github",
        "colab_type": "text"
      },
      "source": [
        "<a href=\"https://colab.research.google.com/github/cjakuc/DS-Unit-4-Sprint-2-Neural-Networks/blob/master/module3-Intro-to-Keras/LS_DS_423_Keras_Assignment.ipynb\" target=\"_parent\"><img src=\"https://colab.research.google.com/assets/colab-badge.svg\" alt=\"Open In Colab\"/></a>"
      ]
    },
    {
      "cell_type": "markdown",
      "metadata": {
        "colab_type": "text",
        "id": "pBQsZEJmubLs"
      },
      "source": [
        "<img align=\"left\" src=\"https://lever-client-logos.s3.amazonaws.com/864372b1-534c-480e-acd5-9711f850815c-1524247202159.png\" width=200>\n",
        "<br></br>\n",
        "\n",
        "# Neural Network Framework (Keras)\n",
        "\n",
        "## *Data Science Unit 4 Sprint 2 Assignment 3*\n",
        "\n",
        "## Use the Keras Library to build a Multi-Layer Perceptron Model on the Boston Housing dataset\n",
        "\n",
        "- The Boston Housing dataset comes with the Keras library so use Keras to import it into your notebook. \n",
        "- Normalize the data (all features should have roughly the same scale)\n",
        "- Import the type of model and layers that you will need from Keras.\n",
        "- Instantiate a model object and use `model.add()` to add layers to your model\n",
        "- Since this is a regression model you will have a single output node in the final layer.\n",
        "- Use activation functions that are appropriate for this task\n",
        "- Compile your model\n",
        "- Fit your model and report its accuracy in terms of Mean Squared Error\n",
        "- Use the history object that is returned from model.fit to make graphs of the model's loss or train/validation accuracies by epoch. \n",
        "- Run this same data through a linear regression model. Which achieves higher accuracy?\n",
        "- Do a little bit of feature engineering and see how that affects your neural network model. (you will need to change your model to accept more inputs)\n",
        "- After feature engineering, which model sees a greater accuracy boost due to the new features?"
      ]
    },
    {
      "cell_type": "code",
      "metadata": {
        "colab_type": "code",
        "id": "8NLTAR87uYJ-",
        "colab": {
          "base_uri": "https://localhost:8080/",
          "height": 52
        },
        "outputId": "6b0babf2-faf9-4ed4-ef9a-1b14cab214de"
      },
      "source": [
        "from tensorflow.keras.datasets import boston_housing\n",
        "from sklearn.preprocessing import Normalizer\n",
        "\n",
        "\n",
        "(x_train, y_train), (x_test, y_test) = boston_housing.load_data()\n",
        "\n",
        "normalizer = Normalizer()\n",
        "x_train_norm = normalizer.fit_transform(x_train)\n",
        "x_test_norm = normalizer.fit_transform(x_test)"
      ],
      "execution_count": 1,
      "outputs": [
        {
          "output_type": "stream",
          "text": [
            "Downloading data from https://storage.googleapis.com/tensorflow/tf-keras-datasets/boston_housing.npz\n",
            "57344/57026 [==============================] - 0s 0us/step\n"
          ],
          "name": "stdout"
        }
      ]
    },
    {
      "cell_type": "code",
      "metadata": {
        "id": "TE1OKaNmWPe0",
        "colab_type": "code",
        "outputId": "6e994bea-30b3-4fb2-9f95-08122d846d8b",
        "colab": {
          "base_uri": "https://localhost:8080/",
          "height": 1000
        }
      },
      "source": [
        "from tensorflow import keras\n",
        "from tensorflow.keras.models import Sequential\n",
        "from tensorflow.keras.layers import Dense\n",
        "\n",
        "inputs = x_train.shape[1]\n",
        "epochs = 50\n",
        "\n",
        "\n",
        "# Create Model\n",
        "model = Sequential()\n",
        "model.add(Dense(64, activation='relu', input_shape=(inputs,)))\n",
        "model.add(Dense(64, activation='relu'))\n",
        "model.add(Dense(1))\n",
        "\n",
        "# Compile Model\n",
        "model.compile(optimizer='adam', loss='mse', metrics='mse')\n",
        "\n",
        "# Fit Model\n",
        "model = model.fit(x_train_norm, y_train, \n",
        "          validation_data=(x_test_norm,y_test), \n",
        "          epochs=epochs, \n",
        "         )"
      ],
      "execution_count": 2,
      "outputs": [
        {
          "output_type": "stream",
          "text": [
            "Epoch 1/50\n",
            "13/13 [==============================] - 0s 15ms/step - loss: 578.6195 - mse: 578.4982 - val_loss: 678.9171 - val_mse: 595.7341\n",
            "Epoch 2/50\n",
            "13/13 [==============================] - 0s 4ms/step - loss: 554.8103 - mse: 557.3526 - val_loss: 654.6890 - val_mse: 573.0217\n",
            "Epoch 3/50\n",
            "13/13 [==============================] - 0s 5ms/step - loss: 531.7999 - mse: 531.6956 - val_loss: 620.7488 - val_mse: 541.2811\n",
            "Epoch 4/50\n",
            "13/13 [==============================] - 0s 5ms/step - loss: 495.3331 - mse: 495.6227 - val_loss: 571.4813 - val_mse: 495.4552\n",
            "Epoch 5/50\n",
            "13/13 [==============================] - 0s 4ms/step - loss: 448.3961 - mse: 443.6695 - val_loss: 504.2708 - val_mse: 433.2201\n",
            "Epoch 6/50\n",
            "13/13 [==============================] - 0s 5ms/step - loss: 373.3496 - mse: 377.2157 - val_loss: 418.9734 - val_mse: 354.8531\n",
            "Epoch 7/50\n",
            "13/13 [==============================] - 0s 5ms/step - loss: 296.3568 - mse: 296.4619 - val_loss: 323.9203 - val_mse: 268.6985\n",
            "Epoch 8/50\n",
            "13/13 [==============================] - 0s 5ms/step - loss: 214.5429 - mse: 214.2009 - val_loss: 228.7979 - val_mse: 184.5922\n",
            "Epoch 9/50\n",
            "13/13 [==============================] - 0s 4ms/step - loss: 143.2134 - mse: 141.5431 - val_loss: 152.2944 - val_mse: 120.1831\n",
            "Epoch 10/50\n",
            "13/13 [==============================] - 0s 4ms/step - loss: 97.7642 - mse: 97.9683 - val_loss: 108.5665 - val_mse: 87.5644\n",
            "Epoch 11/50\n",
            "13/13 [==============================] - 0s 4ms/step - loss: 82.9603 - mse: 82.5705 - val_loss: 94.9654 - val_mse: 80.2336\n",
            "Epoch 12/50\n",
            "13/13 [==============================] - 0s 4ms/step - loss: 79.2894 - mse: 80.5650 - val_loss: 92.3568 - val_mse: 78.8956\n",
            "Epoch 13/50\n",
            "13/13 [==============================] - 0s 4ms/step - loss: 78.2112 - mse: 79.3964 - val_loss: 93.0994 - val_mse: 78.1867\n",
            "Epoch 14/50\n",
            "13/13 [==============================] - 0s 4ms/step - loss: 77.0006 - mse: 78.1697 - val_loss: 92.8224 - val_mse: 77.4323\n",
            "Epoch 15/50\n",
            "13/13 [==============================] - 0s 4ms/step - loss: 76.1882 - mse: 77.4392 - val_loss: 92.6574 - val_mse: 76.7015\n",
            "Epoch 16/50\n",
            "13/13 [==============================] - 0s 5ms/step - loss: 75.7273 - mse: 76.4511 - val_loss: 91.8175 - val_mse: 75.8223\n",
            "Epoch 17/50\n",
            "13/13 [==============================] - 0s 5ms/step - loss: 76.3520 - mse: 75.6481 - val_loss: 90.6940 - val_mse: 74.8052\n",
            "Epoch 18/50\n",
            "13/13 [==============================] - 0s 4ms/step - loss: 75.4595 - mse: 74.8758 - val_loss: 89.7720 - val_mse: 73.8508\n",
            "Epoch 19/50\n",
            "13/13 [==============================] - 0s 4ms/step - loss: 72.9994 - mse: 74.0186 - val_loss: 88.6836 - val_mse: 72.9350\n",
            "Epoch 20/50\n",
            "13/13 [==============================] - 0s 5ms/step - loss: 73.0819 - mse: 73.1778 - val_loss: 88.5037 - val_mse: 72.2765\n",
            "Epoch 21/50\n",
            "13/13 [==============================] - 0s 4ms/step - loss: 72.7834 - mse: 72.3947 - val_loss: 88.0226 - val_mse: 71.4531\n",
            "Epoch 22/50\n",
            "13/13 [==============================] - 0s 4ms/step - loss: 71.6917 - mse: 71.5339 - val_loss: 86.6977 - val_mse: 70.3396\n",
            "Epoch 23/50\n",
            "13/13 [==============================] - 0s 4ms/step - loss: 70.4163 - mse: 70.6143 - val_loss: 85.5638 - val_mse: 69.3596\n",
            "Epoch 24/50\n",
            "13/13 [==============================] - 0s 4ms/step - loss: 68.5545 - mse: 69.8407 - val_loss: 85.0465 - val_mse: 68.5302\n",
            "Epoch 25/50\n",
            "13/13 [==============================] - 0s 5ms/step - loss: 68.7224 - mse: 69.0733 - val_loss: 84.9845 - val_mse: 67.8746\n",
            "Epoch 26/50\n",
            "13/13 [==============================] - 0s 4ms/step - loss: 69.3215 - mse: 68.3369 - val_loss: 84.3548 - val_mse: 67.1086\n",
            "Epoch 27/50\n",
            "13/13 [==============================] - 0s 4ms/step - loss: 67.5605 - mse: 68.1138 - val_loss: 81.6705 - val_mse: 65.9083\n",
            "Epoch 28/50\n",
            "13/13 [==============================] - 0s 4ms/step - loss: 68.0419 - mse: 67.0990 - val_loss: 83.8516 - val_mse: 65.9166\n",
            "Epoch 29/50\n",
            "13/13 [==============================] - 0s 5ms/step - loss: 66.0683 - mse: 66.4075 - val_loss: 82.4269 - val_mse: 64.9333\n",
            "Epoch 30/50\n",
            "13/13 [==============================] - 0s 4ms/step - loss: 64.7289 - mse: 65.7143 - val_loss: 81.6149 - val_mse: 64.2377\n",
            "Epoch 31/50\n",
            "13/13 [==============================] - 0s 4ms/step - loss: 65.2545 - mse: 65.1727 - val_loss: 81.4518 - val_mse: 63.7122\n",
            "Epoch 32/50\n",
            "13/13 [==============================] - 0s 5ms/step - loss: 65.7459 - mse: 64.5654 - val_loss: 81.0658 - val_mse: 63.1808\n",
            "Epoch 33/50\n",
            "13/13 [==============================] - 0s 4ms/step - loss: 62.8382 - mse: 64.1201 - val_loss: 80.4119 - val_mse: 62.5798\n",
            "Epoch 34/50\n",
            "13/13 [==============================] - 0s 4ms/step - loss: 63.6351 - mse: 63.8424 - val_loss: 79.3581 - val_mse: 61.8881\n",
            "Epoch 35/50\n",
            "13/13 [==============================] - 0s 5ms/step - loss: 62.5582 - mse: 63.1569 - val_loss: 80.5311 - val_mse: 61.8127\n",
            "Epoch 36/50\n",
            "13/13 [==============================] - 0s 5ms/step - loss: 62.5675 - mse: 62.8537 - val_loss: 80.8722 - val_mse: 61.5608\n",
            "Epoch 37/50\n",
            "13/13 [==============================] - 0s 5ms/step - loss: 61.4637 - mse: 62.4461 - val_loss: 77.9237 - val_mse: 60.4135\n",
            "Epoch 38/50\n",
            "13/13 [==============================] - 0s 5ms/step - loss: 63.1955 - mse: 61.9347 - val_loss: 78.8915 - val_mse: 60.2920\n",
            "Epoch 39/50\n",
            "13/13 [==============================] - 0s 4ms/step - loss: 61.9222 - mse: 61.5844 - val_loss: 78.4824 - val_mse: 59.8263\n",
            "Epoch 40/50\n",
            "13/13 [==============================] - 0s 5ms/step - loss: 62.8394 - mse: 61.1186 - val_loss: 79.2802 - val_mse: 59.8027\n",
            "Epoch 41/50\n",
            "13/13 [==============================] - 0s 4ms/step - loss: 61.5374 - mse: 60.8366 - val_loss: 78.9360 - val_mse: 59.4303\n",
            "Epoch 42/50\n",
            "13/13 [==============================] - 0s 5ms/step - loss: 60.2797 - mse: 60.6276 - val_loss: 76.9610 - val_mse: 58.6607\n",
            "Epoch 43/50\n",
            "13/13 [==============================] - 0s 5ms/step - loss: 59.7453 - mse: 60.1882 - val_loss: 78.1833 - val_mse: 58.7089\n",
            "Epoch 44/50\n",
            "13/13 [==============================] - 0s 5ms/step - loss: 59.8767 - mse: 60.5737 - val_loss: 78.6967 - val_mse: 58.6804\n",
            "Epoch 45/50\n",
            "13/13 [==============================] - 0s 4ms/step - loss: 58.7821 - mse: 59.7129 - val_loss: 76.6902 - val_mse: 57.8878\n",
            "Epoch 46/50\n",
            "13/13 [==============================] - 0s 4ms/step - loss: 60.0060 - mse: 59.5522 - val_loss: 77.4888 - val_mse: 57.8885\n",
            "Epoch 47/50\n",
            "13/13 [==============================] - 0s 5ms/step - loss: 58.8790 - mse: 59.2351 - val_loss: 76.6298 - val_mse: 57.4934\n",
            "Epoch 48/50\n",
            "13/13 [==============================] - 0s 5ms/step - loss: 57.8983 - mse: 58.9945 - val_loss: 77.1710 - val_mse: 57.4490\n",
            "Epoch 49/50\n",
            "13/13 [==============================] - 0s 4ms/step - loss: 60.6087 - mse: 58.8689 - val_loss: 77.6788 - val_mse: 57.4406\n",
            "Epoch 50/50\n",
            "13/13 [==============================] - 0s 4ms/step - loss: 59.3637 - mse: 58.5336 - val_loss: 76.3224 - val_mse: 56.9186\n"
          ],
          "name": "stdout"
        }
      ]
    },
    {
      "cell_type": "code",
      "metadata": {
        "id": "5yPHikVmXSso",
        "colab_type": "code",
        "outputId": "503fb68a-24d5-4779-b873-c99e3ea79ce4",
        "colab": {
          "base_uri": "https://localhost:8080/",
          "height": 320
        }
      },
      "source": [
        "import numpy as np\n",
        "import seaborn as sns\n",
        "\n",
        "mse = np.array(model.history['val_mse'])\n",
        "epochs = np.array(model.epoch)\n",
        "\n",
        "sns.lineplot(x=epochs,y=mse);"
      ],
      "execution_count": 3,
      "outputs": [
        {
          "output_type": "stream",
          "text": [
            "/usr/local/lib/python3.6/dist-packages/statsmodels/tools/_testing.py:19: FutureWarning: pandas.util.testing is deprecated. Use the functions in the public API at pandas.testing instead.\n",
            "  import pandas.util.testing as tm\n"
          ],
          "name": "stderr"
        },
        {
          "output_type": "display_data",
          "data": {
            "image/png": "[encoded data removed]",
            "text/plain": [
              "<Figure size 432x288 with 1 Axes>"
            ]
          },
          "metadata": {
            "tags": [],
            "needs_background": "light"
          }
        }
      ]
    },
    {
      "cell_type": "code",
      "metadata": {
        "id": "e-ihJn34Yp2I",
        "colab_type": "code",
        "outputId": "60a3fea1-52e0-4dea-d8c5-08bc9ba9b887",
        "colab": {
          "base_uri": "https://localhost:8080/",
          "height": 34
        }
      },
      "source": [
        "from sklearn.linear_model import LinearRegression\n",
        "from sklearn.metrics import mean_squared_error\n",
        "\n",
        "lr_model = LinearRegression()\n",
        "lr_model.fit(x_train, y_train)\n",
        "y_pred = lr_model.predict(x_test)\n",
        "\n",
        "lr_mse = mean_squared_error(y_test, y_pred)\n",
        "lr_mse"
      ],
      "execution_count": 4,
      "outputs": [
        {
          "output_type": "execute_result",
          "data": {
            "text/plain": [
              "23.195599256422906"
            ]
          },
          "metadata": {
            "tags": []
          },
          "execution_count": 4
        }
      ]
    },
    {
      "cell_type": "markdown",
      "metadata": {
        "colab_type": "text",
        "id": "SfcFnOONyuNm"
      },
      "source": [
        "## Use the Keras Library to build an image recognition network using the Fashion-MNIST dataset (also comes with keras)\n",
        "\n",
        "- Load and preprocess the image data similar to how we preprocessed the MNIST data in class.\n",
        "- Make sure to one-hot encode your category labels\n",
        "- The number of nodes in your output layer should equal the number of classes you want to predict for Fashion-MNIST.\n",
        "- Try different hyperparameters. What is the highest accuracy that you are able to achieve.\n",
        "- Use the history object that is returned from model.fit to make graphs of the model's loss or train/validation accuracies by epoch. \n",
        "- Remember that neural networks fall prey to randomness so you may need to run your model multiple times (or use Cross Validation) in order to tell if a change to a hyperparameter is truly producing better results."
      ]
    },
    {
      "cell_type": "markdown",
      "metadata": {
        "id": "_pscEdGqZNEW",
        "colab_type": "text"
      },
      "source": [
        ""
      ]
    },
    {
      "cell_type": "code",
      "metadata": {
        "colab_type": "code",
        "id": "szi6-IpuzaH1",
        "colab": {}
      },
      "source": [
        "from tensorflow.keras.datasets import fashion_mnist\n",
        "\n",
        "(x_train, y_train), (x_test, y_test) = fashion_mnist.load_data()"
      ],
      "execution_count": 0,
      "outputs": []
    },
    {
      "cell_type": "code",
      "metadata": {
        "id": "eqQRxrR7iiqr",
        "colab_type": "code",
        "colab": {
          "base_uri": "https://localhost:8080/",
          "height": 87
        },
        "outputId": "de4e85f2-0cba-4d49-bd93-93761f58aec6"
      },
      "source": [
        "print(x_train.shape)\n",
        "print(x_test.shape)\n",
        "print(y_train.shape)\n",
        "print(y_test.shape)"
      ],
      "execution_count": 48,
      "outputs": [
        {
          "output_type": "stream",
          "text": [
            "(60000, 28, 28)\n",
            "(10000, 28, 28)\n",
            "(60000,)\n",
            "(10000,)\n"
          ],
          "name": "stdout"
        }
      ]
    },
    {
      "cell_type": "code",
      "metadata": {
        "id": "gioA7khlf8ow",
        "colab_type": "code",
        "colab": {}
      },
      "source": [
        "from tensorflow.keras.utils import to_categorical\n",
        "\n",
        "y_train = to_categorical(y_train)\n",
        "y_test = to_categorical(y_test)"
      ],
      "execution_count": 0,
      "outputs": []
    },
    {
      "cell_type": "code",
      "metadata": {
        "id": "0RoQEdC1kfNy",
        "colab_type": "code",
        "colab": {
          "base_uri": "https://localhost:8080/",
          "height": 87
        },
        "outputId": "0f81b289-400c-41ea-b1c8-5a3efbadabc6"
      },
      "source": [
        "print(x_train.shape)\n",
        "print(x_test.shape)\n",
        "print(y_train.shape)\n",
        "print(y_test.shape)"
      ],
      "execution_count": 52,
      "outputs": [
        {
          "output_type": "stream",
          "text": [
            "(60000, 28, 28)\n",
            "(10000, 28, 28)\n",
            "(60000, 10)\n",
            "(10000, 10)\n"
          ],
          "name": "stdout"
        }
      ]
    },
    {
      "cell_type": "code",
      "metadata": {
        "id": "CLulNz2xgthK",
        "colab_type": "code",
        "colab": {}
      },
      "source": [
        "from tensorflow.keras.layers import Flatten\n",
        "\n",
        "\n",
        "model = Sequential([\n",
        "    Flatten(input_shape=(28,28)),\n",
        "    Dense(28, activation=\"sigmoid\"),\n",
        "    Dense(1, activation=\"sigmoid\")\n",
        "])\n",
        "model.compile(loss='binary_crossentropy', optimizer='adam', metrics=['accuracy'])\n",
        "model.fit(x=x_train, \n",
        "        y=y_train, \n",
        "        epochs=5)"
      ],
      "execution_count": 0,
      "outputs": []
    },
    {
      "cell_type": "markdown",
      "metadata": {
        "colab_type": "text",
        "id": "zv_3xNMjzdLI"
      },
      "source": [
        "## Stretch Goals:\n",
        "\n",
        "- Use Hyperparameter Tuning to make the accuracy of your models as high as possible. (error as low as possible)\n",
        "- Use Cross Validation techniques to get more consistent results with your model.\n",
        "- Use GridSearchCV to try different combinations of hyperparameters. \n",
        "- Start looking into other types of Keras layers for CNNs and RNNs maybe try and build a CNN model for fashion-MNIST to see how the results compare."
      ]
    }
  ]
}